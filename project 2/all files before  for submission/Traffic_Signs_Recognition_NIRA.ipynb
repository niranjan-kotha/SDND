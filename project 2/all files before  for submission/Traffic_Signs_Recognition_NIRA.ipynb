{
 "cells": [
  {
   "cell_type": "code",
   "execution_count": 1,
   "metadata": {
    "collapsed": false
   },
   "outputs": [
    {
     "name": "stdout",
     "output_type": "stream",
     "text": [
      "b'Hello World!'\n"
     ]
    }
   ],
   "source": [
    "import tensorflow as tf\n",
    "\n",
    "# Create TensorFlow object called tensor\n",
    "hello_constant = tf.constant('Hello World!')\n",
    "\n",
    "with tf.Session() as sess:\n",
    "    # Run the tf.constant operation in the session\n",
    "    output = sess.run(hello_constant)\n",
    "    print(output)"
   ]
  },
  {
   "cell_type": "markdown",
   "metadata": {},
   "source": [
    "# Self-Driving Car Engineer Nanodegree\n",
    "\n",
    "## Deep Learning\n",
    "\n",
    "## Project: Build a Traffic Sign Recognition Classifier\n",
    "\n",
    "In this notebook, a template is provided for you to implement your functionality in stages which is required to successfully complete this project. If additional code is required that cannot be included in the notebook, be sure that the Python code is successfully imported and included in your submission, if necessary. Sections that begin with **'Implementation'** in the header indicate where you should begin your implementation for your project. Note that some sections of implementation are optional, and will be marked with **'Optional'** in the header.\n",
    "\n",
    "In addition to implementing code, there will be questions that you must answer which relate to the project and your implementation. Each section where you will answer a question is preceded by a **'Question'** header. Carefully read each question and provide thorough answers in the following text boxes that begin with **'Answer:'**. Your project submission will be evaluated based on your answers to each of the questions and the implementation you provide.\n",
    "\n",
    ">**Note:** Code and Markdown cells can be executed using the **Shift + Enter** keyboard shortcut. In addition, Markdown cells can be edited by typically double-clicking the cell to enter edit mode."
   ]
  },
  {
   "cell_type": "markdown",
   "metadata": {},
   "source": [
    "---\n",
    "\n",
    "## Step 1: Dataset Exploration\n",
    "\n",
    "Visualize the German Traffic Signs Dataset. This is open ended, some suggestions include: plotting traffic signs images, plotting the count of each sign, etc. Be creative!\n",
    "\n",
    "\n",
    "The pickled data is a dictionary with 4 key/value pairs:\n",
    "\n",
    "- features -> the images pixel values, (width, height, channels)\n",
    "- labels -> the label of the traffic sign\n",
    "- sizes -> the original width and height of the image, (width, height)\n",
    "- coords -> coordinates of a bounding box around the sign in the image, (x1, y1, x2, y2). Based the original image (not the resized version)."
   ]
  },
  {
   "cell_type": "code",
   "execution_count": 2,
   "metadata": {
    "collapsed": false
   },
   "outputs": [],
   "source": [
    "### Data exploration visualization goes here.\n",
    "### Feel free to use as many code cells as needed.\n",
    "#importing some useful packages\n",
    "import tensorflow as tf\n",
    "import matplotlib.pyplot as plt\n",
    "import matplotlib.image as mpimg\n",
    "import numpy as np\n",
    "#import cv2\n",
    "%matplotlib inline"
   ]
  },
  {
   "cell_type": "code",
   "execution_count": 3,
   "metadata": {
    "collapsed": false
   },
   "outputs": [
    {
     "name": "stdout",
     "output_type": "stream",
     "text": [
      "43\n"
     ]
    }
   ],
   "source": [
    "# Load pickled data\n",
    "import pickle\n",
    "\n",
    "\n",
    "# TODO: fill this in based on where you saved the training and testing data\n",
    "training_file ='train.p'\n",
    "testing_file = 'test.p'\n",
    "\n",
    "with open(training_file, mode='rb') as f:\n",
    "    train = pickle.load(f)\n",
    "with open(testing_file, mode='rb') as f:\n",
    "    test = pickle.load(f)\n",
    "    \n",
    "X_train, y_train = train['features'], train['labels']\n",
    "X_test, y_test = test['features'], test['labels']\n",
    "\n",
    "print(len(np.unique(y_train)))\n"
   ]
  },
  {
   "cell_type": "code",
   "execution_count": 4,
   "metadata": {
    "collapsed": false
   },
   "outputs": [
    {
     "name": "stdout",
     "output_type": "stream",
     "text": [
      "Number of training examples = 39209\n",
      "Number of testing examples = 12630\n",
      "Image data shape = (32, 32, 3)\n",
      "Number of classes = 43\n"
     ]
    }
   ],
   "source": [
    "### To start off let's do a basic data summary.\n",
    "\n",
    "# TODO: number of training examples\n",
    "n_train = len(X_train)\n",
    "\n",
    "# TODO: number of testing examples\n",
    "n_test = len(X_test)\n",
    "\n",
    "# TODO: what's the shape of an image?\n",
    "image_shape =X_train[0].shape\n",
    "\n",
    "# TODO: how many classes are in the dataset\n",
    "n_classes = len(np.unique(y_train))\n",
    "\n",
    "n_input = np.prod(X_train[0].shape)\n",
    "learning_rate = 0.001\n",
    "batch_size = 128\n",
    "training_epochs = 30\n",
    "\n",
    "print(\"Number of training examples =\", n_train)\n",
    "print(\"Number of testing examples =\", n_test)\n",
    "print(\"Image data shape =\", image_shape)\n",
    "print(\"Number of classes =\", n_classes)\n",
    "\n",
    "\n",
    "def one_hot_encode(y, num_examples, num_classes):\n",
    "    ret_y = np.zeros((num_examples, num_classes))\n",
    "    for r in range(num_examples):\n",
    "        ret_y[r][y[r]] = 1\n",
    "    return ret_y\n",
    "\n",
    "encoded_train_labels=one_hot_encode(y_train,len(y_train),n_classes)\n",
    "encoded_test_labels=one_hot_encode(y_test,len(y_test),n_classes)\n",
    "\n"
   ]
  },
  {
   "cell_type": "code",
   "execution_count": 5,
   "metadata": {
    "collapsed": false
   },
   "outputs": [
    {
     "data": {
      "text/plain": [
       "<matplotlib.image.AxesImage at 0x7f9040018390>"
      ]
     },
     "execution_count": 5,
     "metadata": {},
     "output_type": "execute_result"
    },
    {
     "data": {
      "image/png": "[encoded data removed]",
      "text/plain": [
       "<matplotlib.figure.Figure at 0x7f90400a3be0>"
      ]
     },
     "metadata": {},
     "output_type": "display_data"
    }
   ],
   "source": [
    "plt.imshow(X_train[20000])"
   ]
  },
  {
   "cell_type": "markdown",
   "metadata": {},
   "source": [
    "----\n",
    "\n",
    "## Step 2: Design and Test a Model Architecture\n",
    "\n",
    "Design and implement a deep learning model that learns to recognize traffic signs. Train and test your model on the [German Traffic Sign Dataset](http://benchmark.ini.rub.de/?section=gtsrb&subsection=dataset).\n",
    "\n",
    "There are various aspects to consider when thinking about this problem:\n",
    "\n",
    "- Your model can be derived from a deep feedforward net or a deep convolutional network.\n",
    "- Play around preprocessing techniques (normalization, rgb to grayscale, etc)\n",
    "- Number of examples per label (some have more than others).\n",
    "- Generate fake data.\n",
    "\n",
    "Here is an example of a [published baseline model on this problem](http://yann.lecun.com/exdb/publis/pdf/sermanet-ijcnn-11.pdf). It's not required to be familiar with the approach used in the paper but, it's good practice to try to read papers like these."
   ]
  },
  {
   "cell_type": "markdown",
   "metadata": {},
   "source": [
    "### Implementation\n",
    "\n",
    "Use the code cell (or multiple code cells, if necessary) to implement the first step of your project. Once you have completed your implementation and are satisfied with the results, be sure to thoroughly answer the questions that follow."
   ]
  },
  {
   "cell_type": "code",
   "execution_count": 6,
   "metadata": {
    "collapsed": false
   },
   "outputs": [
    {
     "name": "stdout",
     "output_type": "stream",
     "text": [
      "[0 1 2 3]\n",
      "[2 3]\n",
      "[1 2]\n",
      "[0 2 3 1]\n",
      "[[ 12  15  65]\n",
      " [ 54   2   6]\n",
      " [667  32  16]\n",
      " [  6 757  34]]\n",
      "fdjalskfjklasdfj\n",
      "[[ 12  15  65]\n",
      " [667  32  16]\n",
      " [  6 757  34]\n",
      " [ 54   2   6]]\n"
     ]
    }
   ],
   "source": [
    "indices = np.arange(4)\n",
    "print(indices)\n",
    "\n",
    "print(indices[2:])\n",
    "print(indices[-3:-1])\n",
    "randomized_indices=np.arange(4)\n",
    "np.random.shuffle(randomized_indices)\n",
    "print(randomized_indices)\n",
    "\n",
    "mat=np.array([[12,15,65],[54,2,6],[667,32,16],[6,757,34]])\n",
    "print(mat)\n",
    "print(\"fdjalskfjklasdfj\")\n",
    "\n",
    "print(mat[randomized_indices])"
   ]
  },
  {
   "cell_type": "code",
   "execution_count": 7,
   "metadata": {
    "collapsed": false
   },
   "outputs": [],
   "source": [
    "class data:\n",
    "    \n",
    "    def __init__(self,X_train,y_train,X_test,y_test):\n",
    "        self.training_data=X_train\n",
    "        self.labels_training_data=y_train\n",
    "        self.testing_data=X_train\n",
    "        self.labels_testing_data=y_train        \n",
    "        self.train=len(X_train)\n",
    "        self.test=len(X_test)\n",
    "             \n",
    "        \n",
    "        train_indices = np.arange(self.train)\n",
    "        randomized_train_indices=np.arange(self.train)\n",
    "        np.random.shuffle(randomized_train_indices)\n",
    "        \n",
    "        self.randomized_training_data=self.training_data[randomized_train_indices]\n",
    "        self.randomized_labels_training_data=self.labels_training_data[randomized_train_indices]\n",
    "        \n",
    "        test_indices = np.arange(self.test)\n",
    "        randomized_test_indices=np.arange(self.test)\n",
    "        np.random.shuffle(randomized_test_indices)\n",
    "        \n",
    "        self.randomized_testing_data=[randomized_test_indices]\n",
    "        self.randomized_labels_testing_data=[randomized_test_indices]\n",
    "        self.bookmark=0\n",
    "        \n",
    "        \n",
    "    def next_batch(self,batch_size):\n",
    "        if self.bookmark+batch_size<=self.train:\n",
    "            batch_x=self.randomized_training_data[self.bookmark:self.bookmark+batch_size]\n",
    "            batch_y=self.randomized_labels_training_data[self.bookmark:self.bookmark+batch_size]\n",
    "            self.bookmark=self.bookmark+batch_size\n",
    "        elif self.bookmark+batch_size>self.train & self.bookmark<=self.train:\n",
    "            batch_x=self.randomized_training_data[self.bookmark:]\n",
    "            batch_y=self.randomized_labels_training_data[self.bookmark:]\n",
    "            \n",
    "        return batch_x,np.array(batch_y)\n",
    "    \n",
    "Data=data(X_train,encoded_train_labels,X_test,encoded_test_labels)\n"
   ]
  },
  {
   "cell_type": "code",
   "execution_count": 8,
   "metadata": {
    "collapsed": false
   },
   "outputs": [],
   "source": [
    "layer_width = {\n",
    "    'layer_1': 32,\n",
    "    'layer_2': 64,\n",
    "    'layer_3': 128,\n",
    "    'fully_connected': 512\n",
    "}\n",
    "\n",
    "\n",
    "weights = {\n",
    "    #32x32x3 5x5x3x32 16x16x32\n",
    "    'layer_1': tf.Variable(tf.truncated_normal(\n",
    "        [5, 5, 3, layer_width['layer_1']])),\n",
    "    #16x16x32 5x5x32x64  8x8x64\n",
    "    'layer_2': tf.Variable(tf.truncated_normal(\n",
    "        [5, 5, layer_width['layer_1'], layer_width['layer_2']])),\n",
    "    #8x8x64 5x5x64x128 4x4x128\n",
    "    'layer_3': tf.Variable(tf.truncated_normal(\n",
    "        [5, 5, layer_width['layer_2'], layer_width['layer_3']])),\n",
    "    #4x4x128 4x4x128x512 512\n",
    "    'fully_connected': tf.Variable(tf.truncated_normal(\n",
    "        [4*4*128, layer_width['fully_connected']])),\n",
    "    #512 512x43 43\n",
    "    'out': tf.Variable(tf.truncated_normal(\n",
    "        [layer_width['fully_connected'], n_classes]))\n",
    "}\n",
    "biases = {\n",
    "    'layer_1': tf.Variable(tf.zeros(layer_width['layer_1'])),\n",
    "    'layer_2': tf.Variable(tf.zeros(layer_width['layer_2'])),\n",
    "    'layer_3': tf.Variable(tf.zeros(layer_width['layer_3'])),\n",
    "    'fully_connected': tf.Variable(tf.zeros(layer_width['fully_connected'])),\n",
    "    'out': tf.Variable(tf.zeros(n_classes))\n",
    "}\n",
    "\n"
   ]
  },
  {
   "cell_type": "code",
   "execution_count": 9,
   "metadata": {
    "collapsed": false
   },
   "outputs": [],
   "source": [
    "def conv2d(x,W,b,strides=1):\n",
    "    x=tf.nn.conv2d(x,W,strides=[1,strides,strides,1],padding='SAME')\n",
    "    x=tf.nn.bias_add(x,b)\n",
    "    return tf.nn.relu(x)\n",
    "def maxpool2d(x,k=2):\n",
    "    return tf.nn.max_pool(x,ksize=[1,k,k,1],strides=[1,k,k,1],padding='SAME')"
   ]
  },
  {
   "cell_type": "code",
   "execution_count": 10,
   "metadata": {
    "collapsed": false
   },
   "outputs": [],
   "source": [
    "def conv_net(x,weights,biases):\n",
    "    \n",
    "\n",
    "\n",
    "    conv1=conv2d(x,weights['layer_1'],biases['layer_1'])\n",
    "    conv1=maxpool2d(conv1,k=2)\n",
    "\n",
    "\n",
    "    conv2=conv2d(conv1,weights['layer_2'],biases['layer_2'])\n",
    "    conv2=maxpool2d(conv2,k=2)\n",
    "\n",
    "\n",
    "    conv3=conv2d(conv2,weights['layer_3'],biases['layer_3'])\n",
    "    conv3=maxpool2d(conv3,k=2)\n",
    "\n",
    "\n",
    "    fc1 = tf.reshape(\n",
    "        conv3,\n",
    "        [-1, weights['fully_connected'].get_shape().as_list()[0]])\n",
    "    fc1 = tf.add(\n",
    "        tf.matmul(fc1, weights['fully_connected']),\n",
    "        biases['fully_connected'])\n",
    "    fc1 = tf.nn.tanh(fc1)\n",
    "\n",
    "\n",
    "    out=tf.add(tf.matmul(fc1,weights['out']),biases['out'])\n",
    "\n",
    "\n",
    "               \n",
    "    return out\n",
    "               \n",
    "    \n",
    "    \n",
    "    "
   ]
  },
  {
   "cell_type": "code",
   "execution_count": 11,
   "metadata": {
    "collapsed": false
   },
   "outputs": [
    {
     "name": "stdout",
     "output_type": "stream",
     "text": [
      "(?, 32, 32, 3)\n",
      "(?, 43)\n"
     ]
    }
   ],
   "source": [
    "x = tf.placeholder(\"float\", [None, 32, 32,3])\n",
    "y = tf.placeholder(\"float\", [None, n_classes])\n",
    "print(x.get_shape())\n",
    "print(y.get_shape())\n",
    "\n",
    "logits = conv_net(x, weights, biases)\n",
    "\n",
    "# Define loss and optimizer\n",
    "cost = tf.reduce_mean(tf.nn.softmax_cross_entropy_with_logits(logits, y))\n",
    "optimizer = tf.train.GradientDescentOptimizer(learning_rate=learning_rate)\\\n",
    "    .minimize(cost)\n",
    "\n",
    "# Initializing the variables\n",
    "init = tf.initialize_all_variables()\n"
   ]
  },
  {
   "cell_type": "code",
   "execution_count": 12,
   "metadata": {
    "collapsed": false
   },
   "outputs": [
    {
     "name": "stdout",
     "output_type": "stream",
     "text": [
      ":%d *2 = :%d 10 20\n",
      "This 10 is absolutely horrible.\n"
     ]
    }
   ],
   "source": [
    "i=10\n",
    "d=20\n",
    "print(\":%d *2 = :%d\",i,d)\n",
    "\n",
    "print('This {food} is {adjective}.'.format(food=i, adjective='absolutely horrible'))"
   ]
  },
  {
   "cell_type": "code",
   "execution_count": 18,
   "metadata": {
    "collapsed": false
   },
   "outputs": [
    {
     "name": "stdout",
     "output_type": "stream",
     "text": [
      "30\n",
      "306\n",
      "0\n",
      "100\n",
      "200\n",
      "300\n",
      "Epoch: 0001 cost= 16.050296783\n",
      "306\n",
      "0\n",
      "100\n",
      "200\n",
      "300\n",
      "Epoch: 0002 cost= 11.796730042\n",
      "306\n",
      "0\n",
      "100\n",
      "200\n",
      "300\n",
      "Epoch: 0003 cost= 10.226425171\n",
      "306\n",
      "0\n",
      "100\n",
      "200\n",
      "300\n",
      "Epoch: 0004 cost= 8.961482048\n",
      "306\n",
      "0\n",
      "100\n",
      "200\n",
      "300\n",
      "Epoch: 0005 cost= 7.930149555\n",
      "306\n",
      "0\n",
      "100\n",
      "200\n",
      "300\n",
      "Epoch: 0006 cost= 7.150766373\n",
      "306\n",
      "0\n",
      "100\n",
      "200\n",
      "300\n",
      "Epoch: 0007 cost= 6.529267311\n",
      "306\n",
      "0\n",
      "100\n",
      "200\n",
      "300\n",
      "Epoch: 0008 cost= 6.043640614\n",
      "306\n",
      "0\n",
      "100\n",
      "200\n",
      "300\n",
      "Epoch: 0009 cost= 5.622649193\n",
      "306\n",
      "0\n",
      "100\n",
      "200\n",
      "300\n",
      "Epoch: 0010 cost= 5.246075153\n",
      "306\n",
      "0\n",
      "100\n",
      "200\n",
      "300\n",
      "Epoch: 0011 cost= 4.905665874\n",
      "306\n",
      "0\n",
      "100\n",
      "200\n",
      "300\n",
      "Epoch: 0012 cost= 4.596673965\n",
      "306\n",
      "0\n",
      "100\n",
      "200\n",
      "300\n",
      "Epoch: 0013 cost= 4.317793846\n",
      "306\n",
      "0\n",
      "100\n",
      "200\n",
      "300\n",
      "Epoch: 0014 cost= 4.068101406\n",
      "306\n",
      "0\n",
      "100\n",
      "200\n",
      "300\n",
      "Epoch: 0015 cost= 3.845047474\n",
      "306\n",
      "0\n",
      "100\n",
      "200\n",
      "300\n",
      "Epoch: 0016 cost= 3.645722628\n",
      "306\n",
      "0\n",
      "100\n",
      "200\n",
      "300\n",
      "Epoch: 0017 cost= 3.467150450\n",
      "306\n",
      "0\n",
      "100\n",
      "200\n",
      "300\n",
      "Epoch: 0018 cost= 3.306016922\n",
      "306\n",
      "0\n",
      "100\n",
      "200\n",
      "300\n",
      "Epoch: 0019 cost= 3.160331249\n",
      "306\n",
      "0\n",
      "100\n",
      "200\n",
      "300\n",
      "Epoch: 0020 cost= 3.029100418\n",
      "306\n",
      "0\n",
      "100\n",
      "200\n",
      "300\n",
      "Epoch: 0021 cost= 2.910305977\n",
      "306\n",
      "0\n",
      "100\n",
      "200\n",
      "300\n",
      "Epoch: 0022 cost= 2.801191807\n",
      "306\n",
      "0\n",
      "100\n",
      "200\n",
      "300\n",
      "Epoch: 0023 cost= 2.699482679\n",
      "306\n",
      "0\n",
      "100\n",
      "200\n",
      "300\n",
      "Epoch: 0024 cost= 2.603665829\n",
      "306\n",
      "0\n",
      "100\n",
      "200\n",
      "300\n",
      "Epoch: 0025 cost= 2.512767792\n",
      "306\n",
      "0\n",
      "100\n",
      "200\n",
      "300\n",
      "Epoch: 0026 cost= 2.426129818\n",
      "306\n",
      "0\n",
      "100\n",
      "200\n",
      "300\n",
      "Epoch: 0027 cost= 2.343296051\n",
      "306\n",
      "0\n",
      "100\n",
      "200\n",
      "300\n",
      "Epoch: 0028 cost= 2.263918877\n",
      "306\n",
      "0\n",
      "100\n",
      "200\n",
      "300\n",
      "Epoch: 0029 cost= 2.187719107\n",
      "306\n",
      "0\n",
      "100\n",
      "200\n",
      "300\n",
      "Epoch: 0030 cost= 2.114472389\n",
      "Optimization Finished!\n",
      "epoch is  29\n",
      "Accuracy: 0.0\n"
     ]
    }
   ],
   "source": [
    "\n",
    "\n",
    "# Launch the graph\n",
    "with tf.Session() as sess:\n",
    "    sess.run(init)\n",
    "    # Training cycle\n",
    "    print(training_epochs)\n",
    "    for epoch in range(training_epochs):\n",
    "        total_batch = int(len(X_train)/batch_size)\n",
    "        \n",
    "        # Loop over all batches\n",
    "        print(total_batch)\n",
    "        \n",
    "        for i in range(total_batch):\n",
    "            if i%100==0 :\n",
    "                print(i)\n",
    "            batch_x, batch_y = Data.next_batch(batch_size)\n",
    "                        \n",
    "            \n",
    "            #print(batch_x.shape())\n",
    "            #print(batch_y.shape())\n",
    "            # Run optimization op (backprop) and cost op (to get loss value)\n",
    "            sess.run(optimizer, feed_dict={x: batch_x, y: batch_y})\n",
    "        # Display logs per epoch step\n",
    "        c = sess.run(cost, feed_dict={x: batch_x, y: batch_y})\n",
    "        print(\"Epoch:\", '%04d' % (epoch+1), \"cost=\", \"{:.9f}\".format(c))\n",
    "    print(\"Optimization Finished!\")\n",
    "\n",
    "    # Test model\n",
    "    correct_prediction = tf.equal(tf.argmax(logits, 1), tf.argmax(y, 1))\n",
    "    # Calculate accuracy\n",
    "    accuracy = tf.reduce_mean(tf.cast(correct_prediction, \"float\"))\n",
    "    print('epoch is ',epoch)\n",
    "    print(\n",
    "        \"Accuracy:\",\n",
    "        accuracy.eval({x: Data.testing_data[1:100], y: Data.labels_testing_data[1:100]}))"
   ]
  },
  {
   "cell_type": "markdown",
   "metadata": {},
   "source": [
    "### Question 1 \n",
    "\n",
    "_Describe the techniques used to preprocess the data._"
   ]
  },
  {
   "cell_type": "markdown",
   "metadata": {},
   "source": [
    "**Answer:**"
   ]
  },
  {
   "cell_type": "code",
   "execution_count": null,
   "metadata": {
    "collapsed": true
   },
   "outputs": [],
   "source": [
    "### Generate data additional (if you want to!)\n",
    "### and split the data into training/validation/testing sets here.\n",
    "### Feel free to use as many code cells as needed."
   ]
  },
  {
   "cell_type": "markdown",
   "metadata": {},
   "source": [
    "### Question 2\n",
    "\n",
    "_Describe how you set up the training, validation and testing data for your model. If you generated additional data, why?_"
   ]
  },
  {
   "cell_type": "markdown",
   "metadata": {},
   "source": [
    "**Answer:**"
   ]
  },
  {
   "cell_type": "code",
   "execution_count": null,
   "metadata": {
    "collapsed": true
   },
   "outputs": [],
   "source": [
    "### Define your architecture here.\n",
    "### Feel free to use as many code cells as needed."
   ]
  },
  {
   "cell_type": "markdown",
   "metadata": {},
   "source": [
    "### Question 3\n",
    "\n",
    "_What does your final architecture look like? (Type of model, layers, sizes, connectivity, etc.)  For reference on how to build a deep neural network using TensorFlow, see [Deep Neural Network in TensorFlow\n",
    "](https://classroom.udacity.com/nanodegrees/nd013/parts/fbf77062-5703-404e-b60c-95b78b2f3f9e/modules/6df7ae49-c61c-4bb2-a23e-6527e69209ec/lessons/b516a270-8600-4f93-a0a3-20dfeabe5da6/concepts/83a3a2a2-a9bd-4b7b-95b0-eb924ab14432) from the classroom._\n"
   ]
  },
  {
   "cell_type": "markdown",
   "metadata": {},
   "source": [
    "**Answer:**"
   ]
  },
  {
   "cell_type": "code",
   "execution_count": null,
   "metadata": {
    "collapsed": true
   },
   "outputs": [],
   "source": [
    "### Train your model here.\n",
    "### Feel free to use as many code cells as needed."
   ]
  },
  {
   "cell_type": "markdown",
   "metadata": {},
   "source": [
    "### Question 4\n",
    "\n",
    "_How did you train your model? (Type of optimizer, batch size, epochs, hyperparameters, etc.)_\n"
   ]
  },
  {
   "cell_type": "markdown",
   "metadata": {},
   "source": [
    "**Answer:**"
   ]
  },
  {
   "cell_type": "markdown",
   "metadata": {},
   "source": [
    "### Question 5\n",
    "\n",
    "\n",
    "_What approach did you take in coming up with a solution to this problem?_"
   ]
  },
  {
   "cell_type": "markdown",
   "metadata": {},
   "source": [
    "**Answer:**"
   ]
  },
  {
   "cell_type": "markdown",
   "metadata": {},
   "source": [
    "---\n",
    "\n",
    "## Step 3: Test a Model on New Images\n",
    "\n",
    "Take several pictures of traffic signs that you find on the web or around you (at least five), and run them through your classifier on your computer to produce example results. The classifier might not recognize some local signs but it could prove interesting nonetheless.\n",
    "\n",
    "You may find `signnames.csv` useful as it contains mappings from the class id (integer) to the actual sign name."
   ]
  },
  {
   "cell_type": "markdown",
   "metadata": {},
   "source": [
    "### Implementation\n",
    "\n",
    "Use the code cell (or multiple code cells, if necessary) to implement the first step of your project. Once you have completed your implementation and are satisfied with the results, be sure to thoroughly answer the questions that follow."
   ]
  },
  {
   "cell_type": "code",
   "execution_count": null,
   "metadata": {
    "collapsed": true
   },
   "outputs": [],
   "source": [
    "### Load the images and plot them here.\n",
    "### Feel free to use as many code cells as needed."
   ]
  },
  {
   "cell_type": "markdown",
   "metadata": {},
   "source": [
    "### Question 6\n",
    "\n",
    "_Choose five candidate images of traffic signs and provide them in the report. Are there any particular qualities of the image(s) that might make classification difficult? It would be helpful to plot the images in the notebook._\n",
    "\n"
   ]
  },
  {
   "cell_type": "markdown",
   "metadata": {},
   "source": [
    "**Answer:**"
   ]
  },
  {
   "cell_type": "code",
   "execution_count": null,
   "metadata": {
    "collapsed": true
   },
   "outputs": [],
   "source": [
    "### Run the predictions here.\n",
    "### Feel free to use as many code cells as needed."
   ]
  },
  {
   "cell_type": "markdown",
   "metadata": {},
   "source": [
    "### Question 7\n",
    "\n",
    "_Is your model able to perform equally well on captured pictures or a live camera stream when compared to testing on the dataset?_\n"
   ]
  },
  {
   "cell_type": "markdown",
   "metadata": {},
   "source": [
    "**Answer:**"
   ]
  },
  {
   "cell_type": "code",
   "execution_count": null,
   "metadata": {
    "collapsed": true
   },
   "outputs": [],
   "source": [
    "### Visualize the softmax probabilities here.\n",
    "### Feel free to use as many code cells as needed."
   ]
  },
  {
   "cell_type": "markdown",
   "metadata": {},
   "source": [
    "### Question 8\n",
    "\n",
    "*Use the model's softmax probabilities to visualize the **certainty** of its predictions, [`tf.nn.top_k`](https://www.tensorflow.org/versions/r0.11/api_docs/python/nn.html#top_k) could prove helpful here. Which predictions is the model certain of? Uncertain? If the model was incorrect in its initial prediction, does the correct prediction appear in the top k? (k should be 5 at most)*\n"
   ]
  },
  {
   "cell_type": "markdown",
   "metadata": {},
   "source": [
    "**Answer:**"
   ]
  },
  {
   "cell_type": "markdown",
   "metadata": {},
   "source": [
    "### Question 9\n",
    "_If necessary, provide documentation for how an interface was built for your model to load and classify newly-acquired images._\n"
   ]
  },
  {
   "cell_type": "markdown",
   "metadata": {},
   "source": [
    "**Answer:**"
   ]
  },
  {
   "cell_type": "markdown",
   "metadata": {},
   "source": [
    "> **Note**: Once you have completed all of the code implementations and successfully answered each question above, you may finalize your work by exporting the iPython Notebook as an HTML document. You can do this by using the menu above and navigating to  \\n\",\n",
    "    \"**File -> Download as -> HTML (.html)**. Include the finished document along with this notebook as your submission."
   ]
  },
  {
   "cell_type": "code",
   "execution_count": null,
   "metadata": {
    "collapsed": true
   },
   "outputs": [],
   "source": []
  }
 ],
 "metadata": {
  "anaconda-cloud": {},
  "kernelspec": {
   "display_name": "Python [default]",
   "language": "python",
   "name": "python3"
  },
  "language_info": {
   "codemirror_mode": {
    "name": "ipython",
    "version": 3
   },
   "file_extension": ".py",
   "mimetype": "text/x-python",
   "name": "python",
   "nbconvert_exporter": "python",
   "pygments_lexer": "ipython3",
   "version": "3.5.2"
  }
 },
 "nbformat": 4,
 "nbformat_minor": 1
}
