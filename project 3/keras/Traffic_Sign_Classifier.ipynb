{
 "cells": [
  {
   "cell_type": "code",
   "execution_count": 1,
   "metadata": {
    "collapsed": false
   },
   "outputs": [
    {
     "name": "stdout",
     "output_type": "stream",
     "text": [
      "b'Hello World!'\n"
     ]
    }
   ],
   "source": [
    "import tensorflow as tf\n",
    "\n",
    "# Create TensorFlow object called tensor\n",
    "hello_constant = tf.constant('Hello World!')\n",
    "\n",
    "with tf.Session() as sess:\n",
    "    # Run the tf.constant operation in the session\n",
    "    output = sess.run(hello_constant)\n",
    "    print(output)"
   ]
  },
  {
   "cell_type": "markdown",
   "metadata": {},
   "source": [
    "# Self-Driving Car Engineer Nanodegree\n",
    "\n",
    "## Deep Learning\n",
    "\n",
    "## Project: Build a Traffic Sign Recognition Classifier\n",
    "\n",
    "In this notebook, a template is provided for you to implement your functionality in stages which is required to successfully complete this project. If additional code is required that cannot be included in the notebook, be sure that the Python code is successfully imported and included in your submission, if necessary. Sections that begin with **'Implementation'** in the header indicate where you should begin your implementation for your project. Note that some sections of implementation are optional, and will be marked with **'Optional'** in the header.\n",
    "\n",
    "In addition to implementing code, there will be questions that you must answer which relate to the project and your implementation. Each section where you will answer a question is preceded by a **'Question'** header. Carefully read each question and provide thorough answers in the following text boxes that begin with **'Answer:'**. Your project submission will be evaluated based on your answers to each of the questions and the implementation you provide.\n",
    "\n",
    ">**Note:** Code and Markdown cells can be executed using the **Shift + Enter** keyboard shortcut. In addition, Markdown cells can be edited by typically double-clicking the cell to enter edit mode."
   ]
  },
  {
   "cell_type": "markdown",
   "metadata": {},
   "source": [
    "---\n",
    "\n",
    "## Step 1: Dataset Exploration\n",
    "\n",
    "Visualize the German Traffic Signs Dataset. This is open ended, some suggestions include: plotting traffic signs images, plotting the count of each sign, etc. Be creative!\n",
    "\n",
    "\n",
    "The pickled data is a dictionary with 4 key/value pairs:\n",
    "\n",
    "- features -> the images pixel values, (width, height, channels)\n",
    "- labels -> the label of the traffic sign\n",
    "- sizes -> the original width and height of the image, (width, height)\n",
    "- coords -> coordinates of a bounding box around the sign in the image, (x1, y1, x2, y2). Based the original image (not the resized version)."
   ]
  },
  {
   "cell_type": "code",
   "execution_count": 2,
   "metadata": {
    "collapsed": false
   },
   "outputs": [],
   "source": [
    "### Data exploration visualization goes here.\n",
    "### Feel free to use as many code cells as needed.\n",
    "#importing some useful packages\n",
    "import tensorflow as tf\n",
    "import matplotlib.pyplot as plt\n",
    "import matplotlib.image as mpimg\n",
    "import numpy as np\n",
    "import timeit\n",
    "import cv2\n",
    "import os\n",
    "%matplotlib inline"
   ]
  },
  {
   "cell_type": "code",
   "execution_count": 3,
   "metadata": {
    "collapsed": false
   },
   "outputs": [
    {
     "name": "stdout",
     "output_type": "stream",
     "text": [
      "43\n"
     ]
    }
   ],
   "source": [
    "# Load pickled data\n",
    "import pickle\n",
    "\n",
    "\n",
    "# TODO: fill this in based on where you saved the training and testing data\n",
    "training_file ='train.p'\n",
    "testing_file = 'test.p'\n",
    "\n",
    "with open(training_file, mode='rb') as f:\n",
    "    train = pickle.load(f)\n",
    "with open(testing_file, mode='rb') as f:\n",
    "    test = pickle.load(f)\n",
    "    \n",
    "X_train, y_train = train['features'], train['labels']\n",
    "X_test, y_test = test['features'], test['labels']\n",
    "\n",
    "print(len(np.unique(y_train)))\n"
   ]
  },
  {
   "cell_type": "code",
   "execution_count": 4,
   "metadata": {
    "collapsed": false
   },
   "outputs": [
    {
     "name": "stdout",
     "output_type": "stream",
     "text": [
      "Number of training examples = 39209\n",
      "Number of testing examples = 12630\n",
      "Image data shape = (32, 32, 3)\n",
      "Number of classes = 43\n"
     ]
    },
    {
     "data": {
      "text/plain": [
       "'\\na=np.random.randint(30000, size=1)\\nprint(encoded_train_labels[a,y_train[a]])\\nprint(a)\\n'"
      ]
     },
     "execution_count": 4,
     "metadata": {},
     "output_type": "execute_result"
    }
   ],
   "source": [
    "### To start off let's do a basic data summary.\n",
    "\n",
    "# TODO: number of training examples\n",
    "n_train = len(X_train)\n",
    "\n",
    "# TODO: number of testing examples\n",
    "n_test = len(X_test)\n",
    "\n",
    "# TODO: what's the shape of an image?\n",
    "image_shape =X_train[0].shape\n",
    "\n",
    "# TODO: how many classes are in the dataset\n",
    "n_classes = len(np.unique(y_train))\n",
    "\n",
    "n_input = np.prod(X_train[0].shape)\n",
    "learning_rate = 0.01\n",
    "batch_size = 128\n",
    "training_epochs = 30\n",
    "\n",
    "print(\"Number of training examples =\", n_train)\n",
    "print(\"Number of testing examples =\", n_test)\n",
    "print(\"Image data shape =\", image_shape)\n",
    "print(\"Number of classes =\", n_classes)\n",
    "\n",
    "\n",
    "def one_hot_encode(y, num_examples, num_classes):\n",
    "    ret_y = np.zeros((num_examples, num_classes))\n",
    "    for r in range(num_examples):\n",
    "        ret_y[r][y[r]] = 1\n",
    "    return ret_y\n",
    "\n",
    "encoded_train_labels=one_hot_encode(y_train,len(y_train),n_classes)\n",
    "encoded_test_labels=one_hot_encode(y_test,len(y_test),n_classes)\n",
    "\"\"\"\n",
    "a=np.random.randint(30000, size=1)\n",
    "print(encoded_train_labels[a,y_train[a]])\n",
    "print(a)\n",
    "\"\"\"\n"
   ]
  },
  {
   "cell_type": "markdown",
   "metadata": {},
   "source": [
    "----\n",
    "\n",
    "## Step 2: Design and Test a Model Architecture\n",
    "\n",
    "Design and implement a deep learning model that learns to recognize traffic signs. Train and test your model on the [German Traffic Sign Dataset](http://benchmark.ini.rub.de/?section=gtsrb&subsection=dataset).\n",
    "\n",
    "There are various aspects to consider when thinking about this problem:\n",
    "\n",
    "- Your model can be derived from a deep feedforward net or a deep convolutional network.\n",
    "- Play around preprocessing techniques (normalization, rgb to grayscale, etc)\n",
    "- Number of examples per label (some have more than others).\n",
    "- Generate fake data.\n",
    "\n",
    "Here is an example of a [published baseline model on this problem](http://yann.lecun.com/exdb/publis/pdf/sermanet-ijcnn-11.pdf). It's not required to be familiar with the approach used in the paper but, it's good practice to try to read papers like these."
   ]
  },
  {
   "cell_type": "markdown",
   "metadata": {},
   "source": [
    "### Implementation\n",
    "\n",
    "Use the code cell (or multiple code cells, if necessary) to implement the first step of your project. Once you have completed your implementation and are satisfied with the results, be sure to thoroughly answer the questions that follow."
   ]
  },
  {
   "cell_type": "markdown",
   "metadata": {},
   "source": [
    "### Question 1\n",
    "_Describe the techniques used to preprocess the data._\n"
   ]
  },
  {
   "cell_type": "markdown",
   "metadata": {},
   "source": [
    "**Answer:**\n",
    "Images are converted to gray scale and then normalized by subtracting a mean image "
   ]
  },
  {
   "cell_type": "code",
   "execution_count": 5,
   "metadata": {
    "collapsed": false
   },
   "outputs": [
    {
     "name": "stdout",
     "output_type": "stream",
     "text": [
      "shape (32, 32, 1)\n",
      "shape (32, 32, 1)\n"
     ]
    },
    {
     "data": {
      "text/plain": [
       "'\\nprint(np.sum(Data.randomized_training_data-Data.training_data[Data.randomized_train_indices]))\\nprint(np.sum(Data.randomized_labels_training_data-Data.labels_training_data[Data.randomized_train_indices]))\\nprint(np.sum(Data.randomized_testing_data-Data.testing_data[Data.randomized_test_indices]))\\nprint(np.sum(Data.randomized_labels_testing_data-Data.labels_testing_data[Data.randomized_test_indices]))\\nprint(Data.randomized_labels_training_data.shape)\\nprint(Data.randomized_labels_testing_data.shape)\\nx,y=Data.next_batch(128)\\nx,y=Data.next_batch(128)\\n\\n\\nprint(np.sum(x-Data.training_data[Data.randomized_train_indices[128:256]]))\\nprint(np.sum(y-Data.labels_training_data[Data.randomized_train_indices[128:256]]))\\n\\n\\n'"
      ]
     },
     "execution_count": 5,
     "metadata": {},
     "output_type": "execute_result"
    }
   ],
   "source": [
    "### Generate data additional (if you want to!)\n",
    "### and split the data into training/validation/testing sets here.\n",
    "### Feel free to use as many code cells as needed.\n",
    "class ttime:\n",
    "    def __init__(self):\n",
    "        self.start=[]\n",
    "        self.stop=[]\n",
    "        self.epoch_start=[]\n",
    "        self.epoch_stop=[]\n",
    "    def total_time_start(self):        \n",
    "        self.start = timeit.default_timer()        \n",
    "    def total_time_stop(self):                \n",
    "        self.stop = timeit.default_timer()\n",
    "        print((self.stop - self.start )/60)\n",
    "    def epoch_time_start(self):\n",
    "        self.epoch_start = timeit.default_timer()\n",
    "    def epoch_time_stop(self):                \n",
    "        self.epoch_stop = timeit.default_timer()        \n",
    "        print((self.epoch_stop - self.epoch_start )/60)\n",
    "    \n",
    "\n",
    "\n",
    "class data:\n",
    "    \n",
    "    def __init__(self,X_train,y_train,X_test,y_test):\n",
    "        self.color_training_data=X_train\n",
    "        self.training_data=np.empty([X_train.shape[0],X_train.shape[1],X_train.shape[2],1])\n",
    "        \n",
    "        self.labels_training_data=y_train\n",
    "        \n",
    "        self.color_testing_data=X_test\n",
    "        self.testing_data=np.empty([X_test.shape[0],X_test.shape[1],X_test.shape[2],1])\n",
    "        \n",
    "        self.labels_testing_data=y_test        \n",
    "        self.train=len(X_train)\n",
    "        self.test=len(X_test)\n",
    "        \n",
    "        self.train_indices = np.arange(self.train)\n",
    "        self.randomized_train_indices=np.arange(self.train)\n",
    "        np.random.shuffle(self.randomized_train_indices)\n",
    "        \n",
    "        self.test_indices = np.arange(self.test)\n",
    "        self.randomized_test_indices=np.arange(self.test)\n",
    "        np.random.shuffle(self.randomized_test_indices)\n",
    "        \n",
    "    def randomize(self):\n",
    "        self.randomized_training_data=self.training_data[self.randomized_train_indices]\n",
    "        self.randomized_labels_training_data=self.labels_training_data[self.randomized_train_indices]    \n",
    "        self.randomized_testing_data=self.testing_data[self.randomized_test_indices]\n",
    "        self.randomized_labels_testing_data=self.labels_testing_data[self.randomized_test_indices]\n",
    "        self.bookmark=0\n",
    "        \n",
    "    def preprocess_images(self):        \n",
    "        \n",
    "        for i in range(len(self.color_training_data)):\n",
    "            self.training_data[i]=cv2.cvtColor(self.color_training_data[i], cv2.COLOR_BGR2GRAY).reshape(32,32,1)\n",
    "        for i in range(len(self.color_testing_data)):\n",
    "            self.testing_data[i]=cv2.cvtColor(self.color_testing_data[i], cv2.COLOR_BGR2GRAY).reshape(32,32,1)        \n",
    "            \n",
    "        #if 0:  \n",
    "            \n",
    "        #self.training_data=(self.training_data-(np.mean(self.training_data,axis=0)))/np.std(self.training_data)\n",
    "        #print(\"shape\",self.training_data[0].shape)\n",
    "        #self.testing_data=(self.testing_data-(np.mean(self.testing_data)))/np.std(self.testing_data)\n",
    "        #print(\"shape\",self.testing_data[0].shape)\n",
    "        \n",
    "        \n",
    "        \n",
    "        self.training_data=(self.training_data)/255\n",
    "        print(\"shape\",self.training_data[0].shape)\n",
    "        self.testing_data=self.testing_data/255\n",
    "        print(\"shape\",self.testing_data[0].shape)\n",
    "            \n",
    "        \n",
    "    def next_batch(self,batch_size):\n",
    "        if self.bookmark+batch_size<=self.train:\n",
    "            batch_x=self.randomized_training_data[self.bookmark:self.bookmark+batch_size]\n",
    "            batch_y=self.randomized_labels_training_data[self.bookmark:self.bookmark+batch_size]\n",
    "            self.bookmark=self.bookmark+batch_size\n",
    "        elif self.bookmark+batch_size>self.train & self.bookmark<=self.train:\n",
    "            batch_x=self.randomized_training_data[self.bookmark:]\n",
    "            batch_y=self.randomized_labels_training_data[self.bookmark:]\n",
    "            self.bookmark=0\n",
    "            \n",
    "        return batch_x,np.array(batch_y)\n",
    "    \n",
    "Data=data(X_train,encoded_train_labels,X_test,encoded_test_labels)\n",
    "Data.preprocess_images()\n",
    "Data.randomize()\n",
    "T=ttime()\n",
    "\n",
    "\n",
    "############################################################\n",
    "\"\"\"\n",
    "print(np.sum(Data.randomized_training_data-Data.training_data[Data.randomized_train_indices]))\n",
    "print(np.sum(Data.randomized_labels_training_data-Data.labels_training_data[Data.randomized_train_indices]))\n",
    "print(np.sum(Data.randomized_testing_data-Data.testing_data[Data.randomized_test_indices]))\n",
    "print(np.sum(Data.randomized_labels_testing_data-Data.labels_testing_data[Data.randomized_test_indices]))\n",
    "print(Data.randomized_labels_training_data.shape)\n",
    "print(Data.randomized_labels_testing_data.shape)\n",
    "x,y=Data.next_batch(128)\n",
    "x,y=Data.next_batch(128)\n",
    "\n",
    "\n",
    "print(np.sum(x-Data.training_data[Data.randomized_train_indices[128:256]]))\n",
    "print(np.sum(y-Data.labels_training_data[Data.randomized_train_indices[128:256]]))\n",
    "\n",
    "\n",
    "\"\"\"\n",
    "\n"
   ]
  },
  {
   "cell_type": "markdown",
   "metadata": {},
   "source": [
    "### Question 2\n",
    "\n",
    "_Describe how you set up the training, validation and testing data for your model. If you generated additional data, why?_"
   ]
  },
  {
   "cell_type": "markdown",
   "metadata": {},
   "source": [
    "**Answer:**\n",
    "I have not used any validation data but randomized the order of training data to avoid gradients to move biased to a direction"
   ]
  },
  {
   "cell_type": "code",
   "execution_count": 6,
   "metadata": {
    "collapsed": true
   },
   "outputs": [],
   "source": [
    "### Define your architecture here.\n",
    "### Feel free to use as many code cells as needed.\n",
    "layer_width = {\n",
    "    'layer_1': 32,\n",
    "    'layer_2': 64,    \n",
    "    'fully_connected': 1024\n",
    "    \n",
    "       \n",
    "}\n",
    "\"\"\"\n",
    "\n",
    "#32x32\n",
    "layer1 5x5x32\n",
    "32x32x32\n",
    "layer2 64 5x5x32x64\n",
    "32x32x64\n",
    "fc \n",
    "\n",
    "\n",
    "droupout\n",
    "layer3 128 5x5x64x128\n",
    "\n",
    "\n",
    "\n",
    "fc 4x4x256x256 \n",
    "256\n",
    "fc 256 256x43 43\n",
    "\n",
    "\"\"\"\n",
    "\n",
    "\n",
    "\n",
    "\n",
    "weights = {\n",
    "    #32x32x1 5x5x1x32 16x16x32\n",
    "    'layer_1': tf.Variable(tf.truncated_normal(\n",
    "        [5, 5,1, layer_width['layer_1']],mean=0, stddev=0.01)),\n",
    "    #16x16x32 5x5x32x64  8x8x64\n",
    "    'layer_2': tf.Variable(tf.truncated_normal(\n",
    "        [5, 5, layer_width['layer_1'], layer_width['layer_2']],mean=0, stddev=0.01)),\n",
    "    #8x8x64 5x5x64x128 4x4x12   \n",
    "    \n",
    "       \n",
    "    #4x4x128 4x4x128x512 512\n",
    "    'fully_connected': tf.Variable(tf.truncated_normal(\n",
    "        [1600, layer_width['fully_connected']],mean=0, stddev=0.01)),\n",
    "    \n",
    "    #512 512x43 43\n",
    "    'out': tf.Variable(tf.truncated_normal(\n",
    "        [layer_width['fully_connected'], n_classes],mean=0, stddev=0.01))\n",
    "}\n",
    "biases = {\n",
    "    'layer_1': tf.Variable(tf.zeros(layer_width['layer_1'])),\n",
    "    'layer_2': tf.Variable(tf.zeros(layer_width['layer_2'])),    \n",
    "    'fully_connected': tf.Variable(tf.zeros(layer_width['fully_connected'])),\n",
    "    'out': tf.Variable(tf.zeros(n_classes))\n",
    "}\n",
    "\n",
    "def conv2d(x,W,b,strides=1):\n",
    "    x=tf.nn.conv2d(x,W,strides=[1,strides,strides,1],padding='VALID')\n",
    "    x=tf.nn.bias_add(x,b)\n",
    "    x=tf.nn.max_pool(x,ksize=[1,2,2,1],strides=[1,2,2,1],padding='VALID')\n",
    "    return tf.nn.relu(x)\n",
    "\n",
    "\n",
    "def conv_net(x,weights,biases):\n",
    "    \n",
    "    conv1=conv2d(x,weights['layer_1'],biases['layer_1'])\n",
    "    conv1=tf.nn.dropout(conv1,0.9)\n",
    "\n",
    "    \n",
    "\n",
    "\n",
    "    conv2=conv2d(conv1,weights['layer_2'],biases['layer_2'])     \n",
    "    conv2=tf.nn.dropout(conv2,0.9)\n",
    "    \n",
    "\n",
    "\n",
    "    fc1 = tf.reshape(conv2,  [-1, weights['fully_connected'].get_shape().as_list()[0]]  )\n",
    "    fc1 = tf.add(  tf.matmul(fc1, weights['fully_connected']),   biases['fully_connected'])\n",
    "    fc1 = tf.nn.tanh(fc1)\n",
    "\n",
    "\n",
    "    out=tf.add(tf.matmul(fc1,weights['out']),biases['out'])\n",
    "\n",
    "\n",
    "               \n",
    "    return out\n",
    "               \n",
    "    \n",
    "    \n",
    "    "
   ]
  },
  {
   "cell_type": "markdown",
   "metadata": {},
   "source": [
    "### Question 3\n",
    "\n",
    "_What does your final architecture look like? (Type of model, layers, sizes, connectivity, etc.)  For reference on how to build a deep neural network using TensorFlow, see [Deep Neural Network in TensorFlow\n",
    "](https://classroom.udacity.com/nanodegrees/nd013/parts/fbf77062-5703-404e-b60c-95b78b2f3f9e/modules/6df7ae49-c61c-4bb2-a23e-6527e69209ec/lessons/b516a270-8600-4f93-a0a3-20dfeabe5da6/concepts/83a3a2a2-a9bd-4b7b-95b0-eb924ab14432) from the classroom._\n"
   ]
  },
  {
   "cell_type": "markdown",
   "metadata": {},
   "source": [
    "**Answer:**\n",
    "I have used a layer of convolution,maxpool, relu activations, drop out followed by another layer of convloution,maxpool, relu activation, dropout, followed by two fully connected layers "
   ]
  },
  {
   "cell_type": "code",
   "execution_count": 7,
   "metadata": {
    "collapsed": false
   },
   "outputs": [
    {
     "name": "stdout",
     "output_type": "stream",
     "text": [
      "(?, 32, 32, 1)\n",
      "(?, 43)\n"
     ]
    }
   ],
   "source": [
    "### Train your model here.\n",
    "### Feel free to use as many code cells as needed.\n",
    "\n",
    "x = tf.placeholder(\"float\", [None, 32, 32,1])\n",
    "y = tf.placeholder(\"float\", [None, n_classes])\n",
    "print(x.get_shape())\n",
    "print(y.get_shape())\n",
    "\n",
    "logits = conv_net(x, weights, biases)\n",
    "#print(logits.get_shape())\n",
    "prob_logits=tf.nn.softmax(logits)\n",
    "max_prob=tf.nn.top_k(prob_logits, k=5, sorted=True, name=None)\n",
    "#print(prob_logits.get_shape())\n",
    "predicted_labels=tf.argmax(prob_logits,1)\n",
    "\n",
    "cost = tf.reduce_mean(tf.nn.softmax_cross_entropy_with_logits(logits, y))\n",
    "\n",
    "optimizer = tf.train.AdamOptimizer(learning_rate=1e-3).minimize(cost)\n",
    "\n",
    "# Test model\n",
    "correct_prediction = tf.equal(predicted_labels, tf.argmax(y, 1))\n",
    "correct_prediction2 = tf.equal(tf.argmax(logits, 1), tf.argmax(y, 1))\n",
    "\n",
    "# Calculate accuracy\n",
    "accuracy = tf.reduce_mean(tf.cast(correct_prediction, \"float\"))\n",
    "accuracy2 = tf.reduce_mean(tf.cast(correct_prediction, \"float\"))\n",
    "\n",
    "# Initializing the variables\n",
    "init = tf.initialize_all_variables()\n",
    "\n"
   ]
  },
  {
   "cell_type": "code",
   "execution_count": 9,
   "metadata": {
    "collapsed": false,
    "scrolled": true
   },
   "outputs": [
    {
     "name": "stdout",
     "output_type": "stream",
     "text": [
      "0.8129050808666458\n",
      "Epoch: 0001 cost= 0.502177775\n",
      "0.8172959557166298\n",
      "Epoch: 0002 cost= 0.171438247\n",
      "0.8273223917166737\n",
      "Epoch: 0003 cost= 0.105759598\n",
      "0.8266739217166711\n",
      "Epoch: 0004 cost= 0.031744238\n",
      "0.8262440278499829\n",
      "Epoch: 0005 cost= 0.023722611\n",
      "0.8272263760666344\n",
      "Epoch: 0006 cost= 0.070290193\n",
      "0.829210188216651\n",
      "Epoch: 0007 cost= 0.008130743\n",
      "0.8272995292666262\n",
      "Epoch: 0008 cost= 0.023247357\n",
      "Optimization Finished!\n",
      "overall training Accuracy: 0.993471\n",
      "overall training Accuracy: 0.921299\n",
      "6.90656007334995\n"
     ]
    }
   ],
   "source": [
    "learning_rate = 1e-3\n",
    "training_epochs=8\n",
    "T.total_time_start()\n",
    "\n",
    "sess = tf.Session()\n",
    "\n",
    "sess.run(init)                                                                                                                              #print(training_epochs)\n",
    "for epoch in range(training_epochs):        \n",
    "    T.epoch_time_start()\n",
    "    total_batch = int(len(X_train)/batch_size)                                                                                                                                                #print(total_batch)        \n",
    "    for i in range(total_batch):\n",
    "        batch_x, batch_y = Data.next_batch(batch_size)\n",
    "        sess.run(optimizer, feed_dict={x: batch_x, y: batch_y})\n",
    "\n",
    "    c = sess.run(cost, feed_dict={x: batch_x, y: batch_y})\n",
    "    T.epoch_time_stop()\n",
    "\n",
    "    print(\"Epoch:\", '%04d' % (epoch+1), \"cost=\", \"{:.9f}\".format(c))\n",
    "    \n",
    "print(\"Optimization Finished!\")\n",
    "print(\"overall training Accuracy:\",sess.run(accuracy,{x: Data.training_data, y: Data.labels_training_data}))                                                                                                                        #print(\"overall training Accuracy:\",accuracy2.eval({x: Data.training_data, y: Data.labels_training_data}))\n",
    "print(\"overall training Accuracy:\",sess.run(accuracy,{x: Data.testing_data, y: Data.labels_testing_data}))                                                                                                                             #print(\"overall testing Accuracy:\", accuracy2.eval({x: Data.testing_data, y: Data.labels_testing_data}))\n",
    "T.total_time_stop()\n",
    "\n",
    "a=sess.run(prob_logits,feed_dict={x:Data.testing_data,y:Data.labels_testing_data})\n",
    "top_5_pred = sess.run(max_prob, feed_dict={x:Data.testing_data,y:Data.labels_testing_data})\n",
    "    \n",
    "\n",
    "    \n",
    "    "
   ]
  },
  {
   "cell_type": "markdown",
   "metadata": {},
   "source": [
    "### Question 4\n",
    "\n",
    "_How did you train your model? (Type of optimizer, batch size, epochs, hyperparameters, etc.)_\n"
   ]
  },
  {
   "cell_type": "markdown",
   "metadata": {},
   "source": [
    "**Answer:**\n",
    "I have trained for 10 epochs with a batch size of 128 and used Adam optimizer as gradient descnet weight updates may not be the optimal direction for cost minimization and takes so long to converge"
   ]
  },
  {
   "cell_type": "markdown",
   "metadata": {},
   "source": [
    "### Question 5\n",
    "\n",
    "\n",
    "_What approach did you take in coming up with a solution to this problem?_"
   ]
  },
  {
   "cell_type": "markdown",
   "metadata": {},
   "source": [
    "**Answer:**\n",
    "I initially used Gradient descent which took so many epochs and the cost was not minimized then increased the learning rate which stopped cost minimization after few epochs. I then used adam optimizer with low learning rate which gave me good accuracies in 10 epochs. Realizing that testing accuracy is lower comapred to training accuracy ,I have increased drop out probabilty which increased testing accuarcy\n"
   ]
  },
  {
   "cell_type": "markdown",
   "metadata": {},
   "source": [
    "---\n",
    "\n",
    "## Step 3: Test a Model on New Images\n",
    "\n",
    "Take several pictures of traffic signs that you find on the web or around you (at least five), and run them through your classifier on your computer to produce example results. The classifier might not recognize some local signs but it could prove interesting nonetheless.\n",
    "\n",
    "You may find `signnames.csv` useful as it contains mappings from the class id (integer) to the actual sign name."
   ]
  },
  {
   "cell_type": "markdown",
   "metadata": {},
   "source": [
    "### Implementation\n",
    "\n",
    "Use the code cell (or multiple code cells, if necessary) to implement the first step of your project. Once you have completed your implementation and are satisfied with the results, be sure to thoroughly answer the questions that follow."
   ]
  },
  {
   "cell_type": "code",
   "execution_count": 10,
   "metadata": {
    "collapsed": true
   },
   "outputs": [],
   "source": [
    "def plot_figures(figures, nrows = 1, ncols=1):\n",
    "    \"\"\"Plot a dictionary of figures.\n",
    "\n",
    "    Parameters\n",
    "    ----------\n",
    "    figures : <title, figure> dictionary\n",
    "    ncols : number of columns of subplots wanted in the display\n",
    "    nrows : number of rows of subplots wanted in the figure\n",
    "    \"\"\"\n",
    "\n",
    "    fig, axeslist = plt.subplots(ncols=ncols, nrows=nrows)\n",
    "    for ind,title in zip(range(len(figures)), figures):\n",
    "        axeslist.ravel()[ind].imshow(figures[title], cmap=plt.gray())\n",
    "        axeslist.ravel()[ind].set_title(title)\n",
    "        axeslist.ravel()[ind].set_axis_off()\n",
    "    plt.tight_layout() # optional"
   ]
  },
  {
   "cell_type": "code",
   "execution_count": 12,
   "metadata": {
    "collapsed": false,
    "scrolled": true
   },
   "outputs": [
    {
     "data": {
      "image/png": "[encoded data removed]",
      "text/plain": [
       "<matplotlib.figure.Figure at 0x7fda9c77c128>"
      ]
     },
     "metadata": {},
     "output_type": "display_data"
    }
   ],
   "source": [
    "### Load the images and plot them here.\n",
    "### Feel free to use as many code cells as needed.\n",
    "sample_train_images=np.zeros((16,32,32,3))\n",
    "   \n",
    "import os\n",
    "files=os.listdir(\"tes/\")\n",
    "Images = np.zeros(shape=(len(files),32,32), dtype=\"float32\")\n",
    "color_Images = np.zeros(shape=(len(files),32,32,3), dtype=\"float32\")\n",
    "\n",
    "i=0\n",
    "\n",
    "for file in files:    \n",
    "      \n",
    "    img = mpimg.imread('tes/'+file)    \n",
    "    img=cv2.resize(img,(32,32),interpolation = cv2.INTER_AREA)           \n",
    "    \n",
    "    color_Images[i]=img\n",
    "    \n",
    "    img=cv2.cvtColor(img, cv2.COLOR_BGR2GRAY)\n",
    "    \n",
    "    Images[i]=img\n",
    "    \n",
    "    i+=1    \n",
    "   \n",
    "\n",
    "figures={i: Images[i] for i in range(len(Images))}\n",
    "\n",
    "\n",
    "plot_figures(figures, 1, 4)      \n",
    "\n",
    "\n",
    "\n",
    "true_labels=[8 ,36 ,14, 3]\n",
    "\n",
    "\n",
    "j=0\n"
   ]
  },
  {
   "cell_type": "markdown",
   "metadata": {},
   "source": [
    "### Question 6\n",
    "\n",
    "_Choose five candidate images of traffic signs and provide them in the report. Are there any particular qualities of the image(s) that might make classification difficult? It would be helpful to plot the images in the notebook._\n",
    "\n"
   ]
  },
  {
   "cell_type": "markdown",
   "metadata": {},
   "source": [
    "**Answer:** Zoomed traffic signs might be little difficult for classification"
   ]
  },
  {
   "cell_type": "code",
   "execution_count": 13,
   "metadata": {
    "collapsed": false
   },
   "outputs": [
    {
     "name": "stdout",
     "output_type": "stream",
     "text": [
      "[ 3  3 14 38]\n",
      "[8, 36, 14, 3]\n"
     ]
    }
   ],
   "source": [
    "### Run the predictions here.\n",
    "### Feel free to use as many code cells as needed.\n",
    "Images=Images.reshape((len(files),32,32,1))\n",
    "Images=Images/255\n",
    "labels=sess.run(predicted_labels,feed_dict={x: Images})\n",
    "print(labels)\n",
    "print(true_labels)\n"
   ]
  },
  {
   "cell_type": "markdown",
   "metadata": {},
   "source": [
    "### Question 7\n",
    "\n",
    "_Is your model able to perform equally well on captured pictures or a live camera stream when compared to testing on the dataset?_\n"
   ]
  },
  {
   "cell_type": "markdown",
   "metadata": {},
   "source": [
    "**Answer:**\n",
    "No it did not perform well on some images"
   ]
  },
  {
   "cell_type": "code",
   "execution_count": 14,
   "metadata": {
    "collapsed": false
   },
   "outputs": [
    {
     "data": {
      "image/png": "[encoded data removed]",
      "text/plain": [
       "<matplotlib.figure.Figure at 0x7fda9f54f748>"
      ]
     },
     "metadata": {},
     "output_type": "display_data"
    },
    {
     "data": {
      "image/png": "[encoded data removed]",
      "text/plain": [
       "<matplotlib.figure.Figure at 0x7fda9c5762e8>"
      ]
     },
     "metadata": {},
     "output_type": "display_data"
    },
    {
     "data": {
      "image/png": "[encoded data removed]",
      "text/plain": [
       "<matplotlib.figure.Figure at 0x7fda9c61af28>"
      ]
     },
     "metadata": {},
     "output_type": "display_data"
    },
    {
     "data": {
      "image/png": "[encoded data removed]",
      "text/plain": [
       "<matplotlib.figure.Figure at 0x7fda9c776dd8>"
      ]
     },
     "metadata": {},
     "output_type": "display_data"
    },
    {
     "data": {
      "image/png": "[encoded data removed]",
      "text/plain": [
       "<matplotlib.figure.Figure at 0x7fda9c7dca58>"
      ]
     },
     "metadata": {},
     "output_type": "display_data"
    }
   ],
   "source": [
    "### Visualize the softmax probabilities here.\n",
    "### Feel free to use as many code cells as needed.\n",
    "\n",
    "for i in range(5):    \n",
    "    plt.bar(top_5_pred[1][i], top_5_pred[0][i], align=\"center\", alpha=0.5, width = 1)\n",
    "    plt.xticks(np.arange(0,44,2))\n",
    "    plt.title(\"Feature no %d\" %(i+1))\n",
    "    plt.ylabel(\"Probability\")\n",
    "    plt.xlabel(\"Label index\")\n",
    "    plt.show()\n",
    "\n"
   ]
  },
  {
   "cell_type": "markdown",
   "metadata": {},
   "source": [
    "### Question 8\n",
    "\n",
    "*Use the model's softmax probabilities to visualize the **certainty** of its predictions, [`tf.nn.top_k`](https://www.tensorflow.org/versions/r0.11/api_docs/python/nn.html#top_k) could prove helpful here. Which predictions is the model certain of? Uncertain? If the model was incorrect in its initial prediction, does the correct prediction appear in the top k? (k should be 5 at most)*\n"
   ]
  },
  {
   "cell_type": "markdown",
   "metadata": {},
   "source": [
    "**Answer:** The model was certain of all the predictions and correct prediction appears "
   ]
  },
  {
   "cell_type": "markdown",
   "metadata": {},
   "source": [
    "### Question 9\n",
    "_If necessary, provide documentation for how an interface was built for your model to load and classify newly-acquired images._\n"
   ]
  },
  {
   "cell_type": "markdown",
   "metadata": {},
   "source": [
    "**Answer:**"
   ]
  },
  {
   "cell_type": "markdown",
   "metadata": {},
   "source": [
    "> **Note**: Once you have completed all of the code implementations and successfully answered each question above, you may finalize your work by exporting the iPython Notebook as an HTML document. You can do this by using the menu above and navigating to  \\n\",\n",
    "    \"**File -> Download as -> HTML (.html)**. Include the finished document along with this notebook as your submission."
   ]
  },
  {
   "cell_type": "code",
   "execution_count": null,
   "metadata": {
    "collapsed": true
   },
   "outputs": [],
   "source": []
  }
 ],
 "metadata": {
  "anaconda-cloud": {},
  "kernelspec": {
   "display_name": "Python [default]",
   "language": "python",
   "name": "python3"
  },
  "language_info": {
   "codemirror_mode": {
    "name": "ipython",
    "version": 3
   },
   "file_extension": ".py",
   "mimetype": "text/x-python",
   "name": "python",
   "nbconvert_exporter": "python",
   "pygments_lexer": "ipython3",
   "version": "3.5.2"
  }
 },
 "nbformat": 4,
 "nbformat_minor": 1
}
